{
 "cells": [
  {
   "cell_type": "code",
   "execution_count": 3,
   "metadata": {},
   "outputs": [
    {
     "name": "stdout",
     "output_type": "stream",
     "text": [
      "Collecting package metadata (current_repodata.json): done\n",
      "Solving environment: done\n",
      "\n",
      "\n",
      "==> WARNING: A newer version of conda exists. <==\n",
      "  current version: 4.8.3\n",
      "  latest version: 4.8.4\n",
      "\n",
      "Please update conda by running\n",
      "\n",
      "    $ conda update -n base -c defaults conda\n",
      "\n",
      "\n",
      "\n",
      "## Package Plan ##\n",
      "\n",
      "  environment location: /home/jupyterlab/conda/envs/python\n",
      "\n",
      "  added / updated specs:\n",
      "    - sympy\n",
      "\n",
      "\n",
      "The following packages will be downloaded:\n",
      "\n",
      "    package                    |            build\n",
      "    ---------------------------|-----------------\n",
      "    ca-certificates-2020.7.22  |                0         125 KB\n",
      "    certifi-2020.6.20          |           py36_0         156 KB\n",
      "    fastcache-1.1.0            |   py36h7b6447c_0          31 KB\n",
      "    gmpy2-2.0.8                |   py36h10f8cd9_2         150 KB\n",
      "    mpc-1.1.0                  |       h10f8cd9_1          90 KB\n",
      "    mpfr-4.0.2                 |       hb69a4c5_1         487 KB\n",
      "    mpmath-1.1.0               |           py36_0         776 KB\n",
      "    openssl-1.1.1g             |       h7b6447c_0         2.5 MB\n",
      "    sympy-1.6.2                |           py36_0         8.5 MB\n",
      "    ------------------------------------------------------------\n",
      "                                           Total:        12.8 MB\n",
      "\n",
      "The following NEW packages will be INSTALLED:\n",
      "\n",
      "  fastcache          pkgs/main/linux-64::fastcache-1.1.0-py36h7b6447c_0\n",
      "  gmpy2              pkgs/main/linux-64::gmpy2-2.0.8-py36h10f8cd9_2\n",
      "  mpc                pkgs/main/linux-64::mpc-1.1.0-h10f8cd9_1\n",
      "  mpfr               pkgs/main/linux-64::mpfr-4.0.2-hb69a4c5_1\n",
      "  mpmath             pkgs/main/linux-64::mpmath-1.1.0-py36_0\n",
      "  sympy              pkgs/main/linux-64::sympy-1.6.2-py36_0\n",
      "\n",
      "The following packages will be UPDATED:\n",
      "\n",
      "  ca-certificates    conda-forge::ca-certificates-2020.6.2~ --> pkgs/main::ca-certificates-2020.7.22-0\n",
      "\n",
      "The following packages will be SUPERSEDED by a higher-priority channel:\n",
      "\n",
      "  certifi            conda-forge::certifi-2020.6.20-py36h9~ --> pkgs/main::certifi-2020.6.20-py36_0\n",
      "  openssl            conda-forge::openssl-1.1.1g-h516909a_0 --> pkgs/main::openssl-1.1.1g-h7b6447c_0\n",
      "\n",
      "\n",
      "\n",
      "Downloading and Extracting Packages\n",
      "sympy-1.6.2          | 8.5 MB    | ##################################### | 100% \n",
      "openssl-1.1.1g       | 2.5 MB    | ##################################### | 100% \n",
      "fastcache-1.1.0      | 31 KB     | ##################################### | 100% \n",
      "mpc-1.1.0            | 90 KB     | ##################################### | 100% \n",
      "gmpy2-2.0.8          | 150 KB    | ##################################### | 100% \n",
      "certifi-2020.6.20    | 156 KB    | ##################################### | 100% \n",
      "ca-certificates-2020 | 125 KB    | ##################################### | 100% \n",
      "mpfr-4.0.2           | 487 KB    | ##################################### | 100% \n",
      "mpmath-1.1.0         | 776 KB    | ##################################### | 100% \n",
      "Preparing transaction: done\n",
      "Verifying transaction: done\n",
      "Executing transaction: done\n"
     ]
    }
   ],
   "source": [
    "import numpy as np \n",
    "import matplotlib.pyplot as plt\n",
    "import math\n",
    "%matplotlib inline\n",
    "!conda install sympy --yes\n"
   ]
  },
  {
   "cell_type": "markdown",
   "metadata": {},
   "source": [
    "# Modelo de Krönig-Penney\n",
    "\n",
    "## Daniel Souza Lima\n",
    "\n",
    "## Uso extensivo de SymPy, pacote para cálculo simbólico"
   ]
  },
  {
   "cell_type": "code",
   "execution_count": 7,
   "metadata": {},
   "outputs": [],
   "source": [
    "import sympy \n",
    "from sympy import *\n",
    "from sympy import Matrix, ImmutableMatrix\n",
    "\n",
    "k = symbols('k')\n",
    "k0 = symbols('k_0')\n",
    "m = symbols('m')\n",
    "hbar = symbols('hbar')\n",
    "V = symbols('V')\n",
    "a = symbols('a')\n",
    "alpha = symbols('alpha')\n",
    "E = symbols('E')"
   ]
  },
  {
   "cell_type": "code",
   "execution_count": 53,
   "metadata": {},
   "outputs": [
    {
     "name": "stdout",
     "output_type": "stream",
     "text": [
      "A matriz tridiagonal é:\n"
     ]
    },
    {
     "data": {
      "text/latex": [
       "$\\displaystyle \\left[\\begin{matrix}\\alpha k^{2} & \\frac{V}{2}\\\\\\frac{V}{2} & \\alpha \\left(k - k_{0}\\right)^{2}\\end{matrix}\\right]$"
      ],
      "text/plain": [
       "Matrix([\n",
       "[alpha*k**2,                V/2],\n",
       "[       V/2, alpha*(k - k_0)**2]])"
      ]
     },
     "execution_count": 53,
     "metadata": {},
     "output_type": "execute_result"
    }
   ],
   "source": [
    "n=2    # Número de próximos vizinhos\n",
    "\n",
    "\n",
    "# Criação da matriz tridiagonal\n",
    "\n",
    "A = zeros(n,n)\n",
    "for i in range(0,sqrt(len(A)) ):\n",
    "    \n",
    "    A[i,i] = alpha*pow(k-i*k0,2)\n",
    "    if (i<sqrt(len(A))-1):\n",
    "        A[i,i+1] = V/2\n",
    "        \n",
    "    if i>0:    \n",
    "        A[i,i-1] = V/2\n",
    "print('A matriz tridiagonal é:')\n",
    "A"
   ]
  },
  {
   "cell_type": "markdown",
   "metadata": {},
   "source": [
    "## Geração do polinômio característico (não recomendável para n>3!): "
   ]
  },
  {
   "cell_type": "code",
   "execution_count": 54,
   "metadata": {},
   "outputs": [
    {
     "data": {
      "text/latex": [
       "$\\displaystyle E^{2} + E \\left(- 2 \\alpha k^{2} + 2 \\alpha k k_{0} - \\alpha k_{0}^{2}\\right) - \\frac{V^{2}}{4} + \\alpha^{2} k^{4} - 2 \\alpha^{2} k^{3} k_{0} + \\alpha^{2} k^{2} k_{0}^{2}$"
      ],
      "text/plain": [
       "E**2 + E*(-2*alpha*k**2 + 2*alpha*k*k_0 - alpha*k_0**2) - V**2/4 + alpha**2*k**4 - 2*alpha**2*k**3*k_0 + alpha**2*k**2*k_0**2"
      ]
     },
     "execution_count": 54,
     "metadata": {},
     "output_type": "execute_result"
    }
   ],
   "source": [
    "p = A.charpoly(E)\n",
    "h = p.as_expr()\n",
    "h \n",
    "\n"
   ]
  },
  {
   "cell_type": "markdown",
   "metadata": {},
   "source": [
    "## Usando o método de se achar autovalores: "
   ]
  },
  {
   "cell_type": "code",
   "execution_count": 89,
   "metadata": {},
   "outputs": [
    {
     "data": {
      "text/latex": [
       "$\\displaystyle \\frac{5 \\alpha k_{0}^{2}}{4} - \\frac{\\sqrt{V^{2} + 4 \\alpha^{2} k_{0}^{4}}}{2}$"
      ],
      "text/plain": [
       "5*alpha*k_0**2/4 - sqrt(V**2 + 4*alpha**2*k_0**4)/2"
      ]
     },
     "execution_count": 89,
     "metadata": {},
     "output_type": "execute_result"
    }
   ],
   "source": [
    "bandas = A.eigenvals() # criação de um DICIONÁRIO cujas chaves são os próprios autovalores e a degenerecências, os valores. \n",
    "banda = list(bandas.keys()) # Criei uma lista com as raízes\n",
    "banda[0].subs(k,-k0/2)\n"
   ]
  },
  {
   "cell_type": "code",
   "execution_count": 88,
   "metadata": {},
   "outputs": [
    {
     "ename": "TypeError",
     "evalue": "'int' object is not subscriptable",
     "output_type": "error",
     "traceback": [
      "\u001b[0;31m---------------------------------------------------------------------------\u001b[0m",
      "\u001b[0;31mTypeError\u001b[0m                                 Traceback (most recent call last)",
      "\u001b[0;32m<ipython-input-88-c3ee5b4435c1>\u001b[0m in \u001b[0;36m<module>\u001b[0;34m\u001b[0m\n\u001b[1;32m     12\u001b[0m \u001b[0mreplace\u001b[0m \u001b[0;34m=\u001b[0m \u001b[0;34m[\u001b[0m\u001b[0;34m(\u001b[0m\u001b[0mk0\u001b[0m\u001b[0;34m,\u001b[0m\u001b[0;36m2\u001b[0m\u001b[0;34m*\u001b[0m\u001b[0mmath\u001b[0m\u001b[0;34m.\u001b[0m\u001b[0mpi\u001b[0m\u001b[0;34m/\u001b[0m\u001b[0ma\u001b[0m\u001b[0;34m)\u001b[0m\u001b[0;34m,\u001b[0m\u001b[0;34m(\u001b[0m\u001b[0malpha\u001b[0m \u001b[0;34m,\u001b[0m\u001b[0;34m(\u001b[0m\u001b[0;34m(\u001b[0m\u001b[0mhplanck\u001b[0m\u001b[0;34m)\u001b[0m\u001b[0;34m**\u001b[0m\u001b[0;36m2\u001b[0m\u001b[0;34m)\u001b[0m\u001b[0;34m/\u001b[0m\u001b[0;34m(\u001b[0m\u001b[0;36m2\u001b[0m\u001b[0;34m*\u001b[0m\u001b[0mm\u001b[0m\u001b[0;34m)\u001b[0m\u001b[0;34m)\u001b[0m\u001b[0;34m,\u001b[0m\u001b[0;34m(\u001b[0m\u001b[0mV\u001b[0m\u001b[0;34m,\u001b[0m\u001b[0mV_pot\u001b[0m\u001b[0;34m*\u001b[0m\u001b[0;36m1.602176634\u001b[0m\u001b[0;34m*\u001b[0m\u001b[0mpow\u001b[0m\u001b[0;34m(\u001b[0m\u001b[0;36m10\u001b[0m\u001b[0;34m,\u001b[0m\u001b[0;34m-\u001b[0m\u001b[0;36m19\u001b[0m\u001b[0;34m)\u001b[0m\u001b[0;34m)\u001b[0m\u001b[0;34m,\u001b[0m\u001b[0;34m(\u001b[0m\u001b[0mk\u001b[0m\u001b[0;34m,\u001b[0m\u001b[0mk\u001b[0m\u001b[0;34m*\u001b[0m\u001b[0mpow\u001b[0m\u001b[0;34m(\u001b[0m\u001b[0;36m10\u001b[0m\u001b[0;34m,\u001b[0m\u001b[0;36m10\u001b[0m\u001b[0;34m)\u001b[0m\u001b[0;34m)\u001b[0m\u001b[0;34m]\u001b[0m\u001b[0;34m\u001b[0m\u001b[0;34m\u001b[0m\u001b[0m\n\u001b[1;32m     13\u001b[0m \u001b[0mreplace2\u001b[0m \u001b[0;34m=\u001b[0m \u001b[0;34m[\u001b[0m\u001b[0;34m(\u001b[0m\u001b[0mk0\u001b[0m\u001b[0;34m,\u001b[0m\u001b[0;36m1\u001b[0m\u001b[0;34m)\u001b[0m\u001b[0;34m,\u001b[0m\u001b[0;34m(\u001b[0m\u001b[0malpha\u001b[0m\u001b[0;34m,\u001b[0m\u001b[0;36m1\u001b[0m\u001b[0;34m)\u001b[0m\u001b[0;34m,\u001b[0m\u001b[0;34m(\u001b[0m\u001b[0mV\u001b[0m\u001b[0;34m,\u001b[0m\u001b[0;36m1\u001b[0m\u001b[0;34m)\u001b[0m\u001b[0;34m]\u001b[0m\u001b[0;34m\u001b[0m\u001b[0;34m\u001b[0m\u001b[0m\n\u001b[0;32m---> 14\u001b[0;31m \u001b[0mp\u001b[0m \u001b[0;34m=\u001b[0m \u001b[0mbanda\u001b[0m\u001b[0;34m[\u001b[0m\u001b[0;36m1\u001b[0m\u001b[0;34m]\u001b[0m\u001b[0;34m.\u001b[0m\u001b[0msubs\u001b[0m\u001b[0;34m(\u001b[0m\u001b[0mreplace2\u001b[0m\u001b[0;34m)\u001b[0m\u001b[0;31m#/(1.602176634*pow(10,-19))\u001b[0m\u001b[0;34m\u001b[0m\u001b[0;34m\u001b[0m\u001b[0m\n\u001b[0m\u001b[1;32m     15\u001b[0m \u001b[0mq\u001b[0m \u001b[0;34m=\u001b[0m \u001b[0mbanda\u001b[0m\u001b[0;34m[\u001b[0m\u001b[0;36m0\u001b[0m\u001b[0;34m]\u001b[0m\u001b[0;34m.\u001b[0m\u001b[0msubs\u001b[0m\u001b[0;34m(\u001b[0m\u001b[0mreplace2\u001b[0m\u001b[0;34m)\u001b[0m\u001b[0;31m#/(1.602176634*pow(10,-19))\u001b[0m\u001b[0;34m\u001b[0m\u001b[0;34m\u001b[0m\u001b[0m\n\u001b[1;32m     16\u001b[0m \u001b[0mp\u001b[0m\u001b[0;34m\u001b[0m\u001b[0;34m\u001b[0m\u001b[0m\n",
      "\u001b[0;31mTypeError\u001b[0m: 'int' object is not subscriptable"
     ]
    }
   ],
   "source": [
    "from sympy.plotting import plot\n",
    "\n",
    "hplanck = 6.62607004*pow(10,-34) # Constante de Planck\n",
    "m = 9.10938356*pow(10,-31) # massa do elétron\n",
    "a = 1 # parâmetro da distância reticular a em ängstrom  \n",
    "a = a*pow(10,-10)\n",
    "V_pot = 1 # O potencial dado em unidades de eV\n",
    "\n",
    "V_pot = V_pot*1.602176634*pow(10,-19) \n",
    "\n",
    "# Vetor da rede recíproca\n",
    "replace = [(k0,2*math.pi/a),(alpha ,((hplanck)**2)/(2*m)),(V,V_pot*1.602176634*pow(10,-19)),(k,k*pow(10,10))]\n",
    "replace2 = [(k0,1),(alpha,1),(V,1)]\n",
    "p = banda[1].subs(replace2)#/(1.602176634*pow(10,-19))\n",
    "q = banda[0].subs(replace2)#/(1.602176634*pow(10,-19))\n",
    "p\n"
   ]
  },
  {
   "cell_type": "code",
   "execution_count": 79,
   "metadata": {},
   "outputs": [
    {
     "data": {
      "image/png": "[encoded data removed]",
      "text/plain": [
       "<Figure size 432x288 with 1 Axes>"
      ]
     },
     "metadata": {
      "needs_background": "light"
     },
     "output_type": "display_data"
    }
   ],
   "source": [
    "aux3 = plot(p,(k,-math.pi,math.pi),show=False)\n",
    "aux2 = plot(q,(k,-math.pi,math.pi),show=False)\n",
    "aux1.append(aux2[0])\n",
    "\n",
    "aux3.extend(aux2)\n",
    "aux3.show()\n",
    "from sympy.abc import x \n",
    "\n",
    "#f = lambdify(k,p)\n",
    "#print(f(1/2),' ',f(-1/2))\n"
   ]
  }
 ],
 "metadata": {
  "kernelspec": {
   "display_name": "Python",
   "language": "python",
   "name": "conda-env-python-py"
  },
  "language_info": {
   "codemirror_mode": {
    "name": "ipython",
    "version": 3
   },
   "file_extension": ".py",
   "mimetype": "text/x-python",
   "name": "python",
   "nbconvert_exporter": "python",
   "pygments_lexer": "ipython3",
   "version": "3.6.11"
  }
 },
 "nbformat": 4,
 "nbformat_minor": 4
}
